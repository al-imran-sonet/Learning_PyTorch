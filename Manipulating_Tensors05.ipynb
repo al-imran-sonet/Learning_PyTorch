{
  "nbformat": 4,
  "nbformat_minor": 0,
  "metadata": {
    "colab": {
      "provenance": [],
      "authorship_tag": "ABX9TyNLWYJ+s2hvvcSH/m/6FdTh",
      "include_colab_link": true
    },
    "kernelspec": {
      "name": "python3",
      "display_name": "Python 3"
    },
    "language_info": {
      "name": "python"
    }
  },
  "cells": [
    {
      "cell_type": "markdown",
      "metadata": {
        "id": "view-in-github",
        "colab_type": "text"
      },
      "source": [
        "<a href=\"https://colab.research.google.com/github/al-imran-sonet/Learning_PyTorch/blob/main/Manipulating_Tensors05.ipynb\" target=\"_parent\"><img src=\"https://colab.research.google.com/assets/colab-badge.svg\" alt=\"Open In Colab\"/></a>"
      ]
    },
    {
      "cell_type": "markdown",
      "source": [
        "### Manipulating Tensors (Tensors Operations)\n",
        "    1.Addition\n",
        "    2.Subtraction\n",
        "    3.Multiplication (element wise)\n",
        "    4.Division\n",
        "    5.Matrix multiplication"
      ],
      "metadata": {
        "id": "OpZ9pH7xEkMh"
      }
    },
    {
      "cell_type": "code",
      "execution_count": 2,
      "metadata": {
        "id": "0JmTzbq-EjNo"
      },
      "outputs": [],
      "source": [
        "import torch"
      ]
    },
    {
      "cell_type": "code",
      "source": [
        "# Creating a tensor\n",
        "tensor1=torch.tensor([1,2,3])\n",
        "tensor1=tensor1+100 # adding a particular number to a tensor\n",
        "tensor1\n"
      ],
      "metadata": {
        "colab": {
          "base_uri": "https://localhost:8080/"
        },
        "id": "ktKfsQWwGD6V",
        "outputId": "af82ed92-5beb-4194-9e09-e3f348e7f1d2"
      },
      "execution_count": null,
      "outputs": [
        {
          "output_type": "execute_result",
          "data": {
            "text/plain": [
              "tensor([101, 102, 103])"
            ]
          },
          "metadata": {},
          "execution_count": 35
        }
      ]
    },
    {
      "cell_type": "code",
      "source": [
        "tensor1=tensor1-100 # subtracting a particular number to a tensor\n",
        "tensor1"
      ],
      "metadata": {
        "colab": {
          "base_uri": "https://localhost:8080/"
        },
        "id": "7bj5mbNyHLtk",
        "outputId": "de7bb53d-d7f7-4e61-c276-d1b3539cedf1"
      },
      "execution_count": null,
      "outputs": [
        {
          "output_type": "execute_result",
          "data": {
            "text/plain": [
              "tensor([1, 2, 3])"
            ]
          },
          "metadata": {},
          "execution_count": 36
        }
      ]
    },
    {
      "cell_type": "code",
      "source": [
        "tensor1=tensor1*10 # multiplying a number to the tensor\n",
        "tensor1"
      ],
      "metadata": {
        "colab": {
          "base_uri": "https://localhost:8080/"
        },
        "id": "H165xcCbHiBQ",
        "outputId": "6977160e-e392-4038-d081-72690aeff3d9"
      },
      "execution_count": null,
      "outputs": [
        {
          "output_type": "execute_result",
          "data": {
            "text/plain": [
              "tensor([10, 20, 30])"
            ]
          },
          "metadata": {},
          "execution_count": 37
        }
      ]
    },
    {
      "cell_type": "code",
      "source": [
        "##tensor1=tensor1/10 # deviding a number\n",
        "tensor1"
      ],
      "metadata": {
        "colab": {
          "base_uri": "https://localhost:8080/"
        },
        "id": "MkEAYrxOHzC5",
        "outputId": "15c40240-6110-4f79-dfcd-459ad3841981"
      },
      "execution_count": null,
      "outputs": [
        {
          "output_type": "execute_result",
          "data": {
            "text/plain": [
              "tensor([10, 20, 30])"
            ]
          },
          "metadata": {},
          "execution_count": 38
        }
      ]
    },
    {
      "cell_type": "code",
      "source": [
        "# PyTorch build in function\n",
        "torch.mul(tensor1,10) # multiplication\n",
        "tensor1\n"
      ],
      "metadata": {
        "colab": {
          "base_uri": "https://localhost:8080/"
        },
        "id": "Su0k8I0tIAOO",
        "outputId": "4b5065d6-667b-4699-c80d-d39d8fed8012"
      },
      "execution_count": null,
      "outputs": [
        {
          "output_type": "execute_result",
          "data": {
            "text/plain": [
              "tensor([ 90, 100, 110])"
            ]
          },
          "metadata": {},
          "execution_count": 46
        }
      ]
    },
    {
      "cell_type": "code",
      "source": [
        "tensor1=torch.add(tensor1,20) # addition\n",
        "tensor1\n"
      ],
      "metadata": {
        "colab": {
          "base_uri": "https://localhost:8080/"
        },
        "id": "gpzHfsrWJk86",
        "outputId": "5f35aa1d-b24f-4fe0-a701-7bcee6382650"
      },
      "execution_count": null,
      "outputs": [
        {
          "output_type": "execute_result",
          "data": {
            "text/plain": [
              "tensor([110, 120, 130])"
            ]
          },
          "metadata": {},
          "execution_count": 47
        }
      ]
    },
    {
      "cell_type": "markdown",
      "source": [
        "### Matrix Multiplication\n",
        "    Matrix Multiplication is most common operation .\n",
        "    1.Dot Multiply\n",
        "    2.Crose Multiply\n"
      ],
      "metadata": {
        "id": "S-2RGxcWLGbv"
      }
    },
    {
      "cell_type": "code",
      "source": [
        "# creating tensor\n",
        "tensor2 = torch.tensor([2,3,4])\n",
        "tensor2"
      ],
      "metadata": {
        "colab": {
          "base_uri": "https://localhost:8080/"
        },
        "id": "CgCnKMhZMCvs",
        "outputId": "eb5aaeec-dfea-4e35-a920-74ee4c01b39f"
      },
      "execution_count": null,
      "outputs": [
        {
          "output_type": "execute_result",
          "data": {
            "text/plain": [
              "tensor([2, 3, 4])"
            ]
          },
          "metadata": {},
          "execution_count": 56
        }
      ]
    },
    {
      "cell_type": "code",
      "source": [
        "# Dot multiplication\n",
        "torch.matmul(tensor2,tensor2)"
      ],
      "metadata": {
        "colab": {
          "base_uri": "https://localhost:8080/"
        },
        "id": "i_FYr8zuRG-F",
        "outputId": "bd606dcd-6f3d-4298-dc2d-69e2aecd8ab4"
      },
      "execution_count": null,
      "outputs": [
        {
          "output_type": "execute_result",
          "data": {
            "text/plain": [
              "tensor(29)"
            ]
          },
          "metadata": {},
          "execution_count": 58
        }
      ]
    },
    {
      "cell_type": "code",
      "source": [
        "# Dot multiplication by hand\n",
        "2*2+3*3+4*4"
      ],
      "metadata": {
        "colab": {
          "base_uri": "https://localhost:8080/"
        },
        "id": "Q6uPYY36RQMs",
        "outputId": "7182f9eb-d40d-44cc-ca85-284bb575e5b7"
      },
      "execution_count": null,
      "outputs": [
        {
          "output_type": "execute_result",
          "data": {
            "text/plain": [
              "29"
            ]
          },
          "metadata": {},
          "execution_count": 60
        }
      ]
    },
    {
      "cell_type": "code",
      "source": [
        "# time of execution\n",
        "%%time\n",
        "\n",
        "value =0\n",
        "lenght=len(tensor2)\n",
        "for i in range(lenght):\n",
        "  value+=tensor2[i]*tensor2[i]\n",
        "\n",
        "value\n",
        "# The execution time is around 1ms to 3ms"
      ],
      "metadata": {
        "colab": {
          "base_uri": "https://localhost:8080/"
        },
        "id": "89WdIwwIYisk",
        "outputId": "77b0be96-fff2-426d-8c4d-987add4a74d6"
      },
      "execution_count": null,
      "outputs": [
        {
          "output_type": "stream",
          "name": "stdout",
          "text": [
            "CPU times: user 2.04 ms, sys: 0 ns, total: 2.04 ms\n",
            "Wall time: 1.71 ms\n"
          ]
        },
        {
          "output_type": "execute_result",
          "data": {
            "text/plain": [
              "tensor(29)"
            ]
          },
          "metadata": {},
          "execution_count": 69
        }
      ]
    },
    {
      "cell_type": "code",
      "source": [
        "%%time\n",
        "tensor2_dot=torch.matmul(tensor2,tensor2)\n",
        "tensor2_dot\n",
        "# the execution time is around 400 to 800 micro sec"
      ],
      "metadata": {
        "colab": {
          "base_uri": "https://localhost:8080/"
        },
        "id": "_IhqQkpXX-cG",
        "outputId": "c4b2128a-5381-4831-ea18-14a0bd5abe38"
      },
      "execution_count": null,
      "outputs": [
        {
          "output_type": "stream",
          "name": "stdout",
          "text": [
            "CPU times: user 0 ns, sys: 686 µs, total: 686 µs\n",
            "Wall time: 503 µs\n"
          ]
        },
        {
          "output_type": "execute_result",
          "data": {
            "text/plain": [
              "tensor(29)"
            ]
          },
          "metadata": {},
          "execution_count": 77
        }
      ]
    },
    {
      "cell_type": "markdown",
      "source": [
        "### One of the most common error and rules that need to be satisfy for matrix multiplication\n",
        "    1.The **inner dimension** must match\n",
        "       example : a. (3,2) dot (3,2) --- wont work\n",
        "                 b. (2,3) dot (3,2) --- will work\n",
        "                 c. (3,2) dot (2,3) --- will work\n",
        "\n",
        "    2.The resulting  matrix has same outer dimention\n",
        "       example: a.(2,3) dot (3,2)-- (2,2)\n",
        "                b.(3,2) dot (2,3)-- (3,3)"
      ],
      "metadata": {
        "id": "a9WOY1bzbsf3"
      }
    },
    {
      "cell_type": "code",
      "source": [
        "##torch.matmul(torch.rand(3,2),torch.rand(3,2)) it will show error\n",
        "\n",
        "torch.matmul(torch.rand(3,2),torch.rand(2,1)) #  the dimention will have to be like this tensor[m,n] and tensor[n,p] ( n is the inner dimention )"
      ],
      "metadata": {
        "colab": {
          "base_uri": "https://localhost:8080/"
        },
        "id": "VcTOYlRZaxBX",
        "outputId": "4feb3b16-cf95-4cf1-9c56-56dc0d701f48"
      },
      "execution_count": null,
      "outputs": [
        {
          "output_type": "execute_result",
          "data": {
            "text/plain": [
              "tensor([[0.7733],\n",
              "        [0.1350],\n",
              "        [0.4379]])"
            ]
          },
          "metadata": {},
          "execution_count": 82
        }
      ]
    },
    {
      "cell_type": "markdown",
      "source": [
        "### One of the most common error is shape error\n",
        "    Some time we use manipulate the shape of tensor to avoide the shape error.\n",
        "    We use Transpose to switch the axis of a defined tensor ."
      ],
      "metadata": {
        "id": "CnmlEjVkXHwH"
      }
    },
    {
      "cell_type": "code",
      "source": [
        "#shapes for matrix multiplication\n",
        "tensor_A =torch.tensor([[1,2],\n",
        "                        [2,3],\n",
        "                        [4,5]])\n",
        "tensor_B =torch.tensor([[11,22],\n",
        "                        [33,44],\n",
        "                        [55,66]])\n",
        "torch.matmul(tensor_A,tensor_B) # torch.mm(tensor_A,tensor_B) dose the same as the code used befor\n",
        "# it will show an error because the inner dimention isnt match"
      ],
      "metadata": {
        "colab": {
          "base_uri": "https://localhost:8080/",
          "height": 181
        },
        "id": "kSPGktR9WmP6",
        "outputId": "18db3c95-35ff-4bce-a67b-667552cd3f2a"
      },
      "execution_count": 3,
      "outputs": [
        {
          "output_type": "error",
          "ename": "RuntimeError",
          "evalue": "mat1 and mat2 shapes cannot be multiplied (3x2 and 3x2)",
          "traceback": [
            "\u001b[0;31m---------------------------------------------------------------------------\u001b[0m",
            "\u001b[0;31mRuntimeError\u001b[0m                              Traceback (most recent call last)",
            "\u001b[0;32m<ipython-input-3-546f5f8808c6>\u001b[0m in \u001b[0;36m<cell line: 0>\u001b[0;34m()\u001b[0m\n\u001b[1;32m      6\u001b[0m                         \u001b[0;34m[\u001b[0m\u001b[0;36m33\u001b[0m\u001b[0;34m,\u001b[0m\u001b[0;36m44\u001b[0m\u001b[0;34m]\u001b[0m\u001b[0;34m,\u001b[0m\u001b[0;34m\u001b[0m\u001b[0;34m\u001b[0m\u001b[0m\n\u001b[1;32m      7\u001b[0m                         [55,66]])\n\u001b[0;32m----> 8\u001b[0;31m \u001b[0mtorch\u001b[0m\u001b[0;34m.\u001b[0m\u001b[0mmatmul\u001b[0m\u001b[0;34m(\u001b[0m\u001b[0mtensor_A\u001b[0m\u001b[0;34m,\u001b[0m\u001b[0mtensor_B\u001b[0m\u001b[0;34m)\u001b[0m\u001b[0;34m\u001b[0m\u001b[0;34m\u001b[0m\u001b[0m\n\u001b[0m",
            "\u001b[0;31mRuntimeError\u001b[0m: mat1 and mat2 shapes cannot be multiplied (3x2 and 3x2)"
          ]
        }
      ]
    },
    {
      "cell_type": "code",
      "source": [
        "# transpose of a matrix .\n",
        "tensor_B.T,tensor_B"
      ],
      "metadata": {
        "colab": {
          "base_uri": "https://localhost:8080/"
        },
        "id": "gWf0f15CYsVT",
        "outputId": "cc4cfd14-c950-4189-8451-a0e81d59eb34"
      },
      "execution_count": 4,
      "outputs": [
        {
          "output_type": "execute_result",
          "data": {
            "text/plain": [
              "(tensor([[11, 33, 55],\n",
              "         [22, 44, 66]]),\n",
              " tensor([[11, 22],\n",
              "         [33, 44],\n",
              "         [55, 66]]))"
            ]
          },
          "metadata": {},
          "execution_count": 4
        }
      ]
    },
    {
      "cell_type": "code",
      "source": [
        "tensor_B=tensor_B.T\n",
        "tensor_B,tensor_B.shape\n"
      ],
      "metadata": {
        "colab": {
          "base_uri": "https://localhost:8080/"
        },
        "id": "i5ucoA92aVAx",
        "outputId": "87bfc9a8-b242-4692-ddfe-1d9803ffb4d8"
      },
      "execution_count": 13,
      "outputs": [
        {
          "output_type": "execute_result",
          "data": {
            "text/plain": [
              "(tensor([[11, 33, 55],\n",
              "         [22, 44, 66]]),\n",
              " torch.Size([2, 3]))"
            ]
          },
          "metadata": {},
          "execution_count": 13
        }
      ]
    },
    {
      "cell_type": "code",
      "source": [
        "tensor_R=torch.mm(tensor_A,tensor_B)\n",
        "tensor_R"
      ],
      "metadata": {
        "colab": {
          "base_uri": "https://localhost:8080/"
        },
        "id": "RO5yG3p4asd8",
        "outputId": "51a030ee-0287-435f-b76d-36d1f00d944a"
      },
      "execution_count": 15,
      "outputs": [
        {
          "output_type": "execute_result",
          "data": {
            "text/plain": [
              "tensor([[ 55, 121, 187],\n",
              "        [ 88, 198, 308],\n",
              "        [154, 352, 550]])"
            ]
          },
          "metadata": {},
          "execution_count": 15
        }
      ]
    }
  ]
}