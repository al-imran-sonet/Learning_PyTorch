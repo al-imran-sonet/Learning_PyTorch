{
  "nbformat": 4,
  "nbformat_minor": 0,
  "metadata": {
    "colab": {
      "provenance": [],
      "authorship_tag": "ABX9TyO1B1uIA8QGLr5jNG+F3Dpc",
      "include_colab_link": true
    },
    "kernelspec": {
      "name": "python3",
      "display_name": "Python 3"
    },
    "language_info": {
      "name": "python"
    }
  },
  "cells": [
    {
      "cell_type": "markdown",
      "metadata": {
        "id": "view-in-github",
        "colab_type": "text"
      },
      "source": [
        "<a href=\"https://colab.research.google.com/github/al-imran-sonet/Learning_PyTorch/blob/main/Untitled1.ipynb\" target=\"_parent\"><img src=\"https://colab.research.google.com/assets/colab-badge.svg\" alt=\"Open In Colab\"/></a>"
      ]
    },
    {
      "cell_type": "markdown",
      "source": [
        "### Tensor Reshaping, Stacking, Squeezing and Unsqueezing\n",
        "    *Reshaping -- Reshape a input tensor\n",
        "    *View -- Return a view of an input tensor of cretain shape but keep the same memory as the original tensor ( it is quit similar to the Reshaping )\n",
        "    *Stacking -- Combine multiple tensor on top of each other (vstack),side by side (hstack)\n",
        "    *Squeezing --Remove all '1' dimensions from a tensor\n",
        "    *Unsqueezing -- add a '1' dimension to a target tensor\n",
        "    *Permute -- Return a view of the input with dimensions prmuted (swapped) in certain way"
      ],
      "metadata": {
        "id": "2_Js56iol7eq"
      }
    },
    {
      "cell_type": "code",
      "execution_count": 1,
      "metadata": {
        "id": "_BfWiSyBljuG"
      },
      "outputs": [],
      "source": [
        "import torch"
      ]
    },
    {
      "cell_type": "code",
      "source": [
        "# creating tensor\n",
        "x=torch.tensor([1,2,3,4,5,6])\n",
        "x, x.shape"
      ],
      "metadata": {
        "colab": {
          "base_uri": "https://localhost:8080/"
        },
        "id": "mddFrWRgnn-e",
        "outputId": "bab08646-e16b-4bce-a37c-c7aa30cf2dce"
      },
      "execution_count": 3,
      "outputs": [
        {
          "output_type": "execute_result",
          "data": {
            "text/plain": [
              "(tensor([1, 2, 3, 4, 5, 6]), torch.Size([6]))"
            ]
          },
          "metadata": {},
          "execution_count": 3
        }
      ]
    },
    {
      "cell_type": "code",
      "source": [
        "#add a extra dimension\n",
        "x_reshaped=x.reshape(1,6)\n",
        "x_reshaped,x_reshaped.shape"
      ],
      "metadata": {
        "colab": {
          "base_uri": "https://localhost:8080/"
        },
        "id": "WK5H547on7kD",
        "outputId": "37abe564-a80b-402a-b133-15a46dd252bd"
      },
      "execution_count": 5,
      "outputs": [
        {
          "output_type": "execute_result",
          "data": {
            "text/plain": [
              "(tensor([[1, 2, 3, 4, 5, 6]]), torch.Size([1, 6]))"
            ]
          },
          "metadata": {},
          "execution_count": 5
        }
      ]
    }
  ]
}