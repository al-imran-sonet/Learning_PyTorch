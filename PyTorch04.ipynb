{
  "nbformat": 4,
  "nbformat_minor": 0,
  "metadata": {
    "colab": {
      "provenance": [],
      "authorship_tag": "ABX9TyOiJy0YgrvQpGQ5y0cOIX/H",
      "include_colab_link": true
    },
    "kernelspec": {
      "name": "python3",
      "display_name": "Python 3"
    },
    "language_info": {
      "name": "python"
    }
  },
  "cells": [
    {
      "cell_type": "markdown",
      "metadata": {
        "id": "view-in-github",
        "colab_type": "text"
      },
      "source": [
        "<a href=\"https://colab.research.google.com/github/al-imran-sonet/Learning_PyTorch/blob/main/PyTorch04.ipynb\" target=\"_parent\"><img src=\"https://colab.research.google.com/assets/colab-badge.svg\" alt=\"Open In Colab\"/></a>"
      ]
    },
    {
      "cell_type": "markdown",
      "source": [
        "#Tensor datatypes\n",
        "\n",
        "We get 3 big errors for dataType in PyTorch and deep learning\n",
        "\n",
        "1.Tensor not right datatype\n",
        "\n",
        "2.Tensor not right shape\n",
        "\n",
        "3.Tensor not on right device\n",
        "\n",
        "-->>read_about{precision in computing, device ,requires_grad}\n"
      ],
      "metadata": {
        "id": "D1gaprjM7Bpf"
      }
    },
    {
      "cell_type": "code",
      "source": [
        "import torch"
      ],
      "metadata": {
        "id": "dOZPfcEY7ocw"
      },
      "execution_count": 2,
      "outputs": []
    },
    {
      "cell_type": "code",
      "execution_count": 5,
      "metadata": {
        "colab": {
          "base_uri": "https://localhost:8080/"
        },
        "id": "2W6PbH3h67bt",
        "outputId": "e706871a-4a0c-40c1-b4c4-941566897462"
      },
      "outputs": [
        {
          "output_type": "execute_result",
          "data": {
            "text/plain": [
              "tensor([3.0000, 1.2000, 4.3000])"
            ]
          },
          "metadata": {},
          "execution_count": 5
        }
      ],
      "source": [
        "# Floate 32 tensor\n",
        "float_32_tensor=torch.tensor([3.0,1.2,4.3],\n",
        "                             dtype = None) # If we put None it will creat float 32 by default .\n",
        "float_32_tensor"
      ]
    },
    {
      "cell_type": "code",
      "source": [
        "float_32_tensor.dtype"
      ],
      "metadata": {
        "colab": {
          "base_uri": "https://localhost:8080/"
        },
        "id": "N8N4bMxL8JMo",
        "outputId": "2f6d7301-9e19-4f3f-923d-23f0eb833bb3"
      },
      "execution_count": null,
      "outputs": [
        {
          "output_type": "execute_result",
          "data": {
            "text/plain": [
              "torch.float32"
            ]
          },
          "metadata": {},
          "execution_count": 3
        }
      ]
    },
    {
      "cell_type": "code",
      "source": [
        "# Floate 16 tensor\n",
        "float_16_tensor=torch.tensor([3.0,1.2,4.3],\n",
        "                             dtype = torch.float16) # If we put torch.float16 it will creat float 16.\n",
        "float_16_tensor"
      ],
      "metadata": {
        "colab": {
          "base_uri": "https://localhost:8080/"
        },
        "id": "mQpTwfGP9ASR",
        "outputId": "f4f7eb17-cb37-4950-d5f9-512614875f47"
      },
      "execution_count": null,
      "outputs": [
        {
          "output_type": "execute_result",
          "data": {
            "text/plain": [
              "tensor([3.0000, 1.2002, 4.3008], dtype=torch.float16)"
            ]
          },
          "metadata": {},
          "execution_count": 4
        }
      ]
    },
    {
      "cell_type": "code",
      "source": [
        "float_16_tensor.dtype"
      ],
      "metadata": {
        "colab": {
          "base_uri": "https://localhost:8080/"
        },
        "id": "S5J8TNdZ9Ug-",
        "outputId": "44c6fcdb-11d6-476c-e005-b111351fab1e"
      },
      "execution_count": null,
      "outputs": [
        {
          "output_type": "execute_result",
          "data": {
            "text/plain": [
              "torch.float16"
            ]
          },
          "metadata": {},
          "execution_count": 5
        }
      ]
    },
    {
      "cell_type": "code",
      "source": [
        "# Floate 32 tensor\n",
        "float_32_tensor1=torch.tensor([3.0,1.2,4.3],\n",
        "                             dtype = None, # What data type I want (float 16, float32 etc )\n",
        "                              device=None, # We can change the device like cpu or gpu (like cuda)\n",
        "                              requires_grad=False) # Whether or not to track gradinets with this tensors operations\n",
        "float_32_tensor1"
      ],
      "metadata": {
        "colab": {
          "base_uri": "https://localhost:8080/"
        },
        "id": "u_mYYgLz9zfx",
        "outputId": "3a7331e6-97c7-4a91-b694-4b305f3e4556"
      },
      "execution_count": null,
      "outputs": [
        {
          "output_type": "execute_result",
          "data": {
            "text/plain": [
              "tensor([3.0000, 1.2000, 4.3000])"
            ]
          },
          "metadata": {},
          "execution_count": 6
        }
      ]
    },
    {
      "cell_type": "code",
      "source": [
        "float_32_tensor1*float_16_tensor"
      ],
      "metadata": {
        "colab": {
          "base_uri": "https://localhost:8080/"
        },
        "id": "Qrg7zZKXEDdE",
        "outputId": "423883bf-8763-449e-ab1c-7a6c3e06c7b6"
      },
      "execution_count": null,
      "outputs": [
        {
          "output_type": "execute_result",
          "data": {
            "text/plain": [
              "tensor([ 9.0000,  1.4402, 18.4934])"
            ]
          },
          "metadata": {},
          "execution_count": 7
        }
      ]
    },
    {
      "cell_type": "code",
      "source": [
        "float_16_tensor*float_32_tensor"
      ],
      "metadata": {
        "colab": {
          "base_uri": "https://localhost:8080/"
        },
        "id": "tXHgiyC2EPOy",
        "outputId": "4ea9907d-8120-4770-a25e-e239e4deaef0"
      },
      "execution_count": null,
      "outputs": [
        {
          "output_type": "execute_result",
          "data": {
            "text/plain": [
              "tensor([ 9.0000,  1.4402, 18.4934])"
            ]
          },
          "metadata": {},
          "execution_count": 8
        }
      ]
    },
    {
      "cell_type": "code",
      "source": [
        "int_32_tensor= torch.tensor([1,2,3],dtype= torch.int32)\n",
        "int_32_tensor"
      ],
      "metadata": {
        "colab": {
          "base_uri": "https://localhost:8080/"
        },
        "id": "29DrOerD_CeD",
        "outputId": "d7b53f1d-ca75-454f-b28b-06823cab8727"
      },
      "execution_count": 3,
      "outputs": [
        {
          "output_type": "execute_result",
          "data": {
            "text/plain": [
              "tensor([1, 2, 3], dtype=torch.int32)"
            ]
          },
          "metadata": {},
          "execution_count": 3
        }
      ]
    },
    {
      "cell_type": "code",
      "source": [
        "float_32_tensor*int_32_tensor"
      ],
      "metadata": {
        "colab": {
          "base_uri": "https://localhost:8080/"
        },
        "id": "UWGu6dS0_2vX",
        "outputId": "6b2ad3db-6cc0-4d60-b2b5-fbaca2be0090"
      },
      "execution_count": 6,
      "outputs": [
        {
          "output_type": "execute_result",
          "data": {
            "text/plain": [
              "tensor([ 3.0000,  2.4000, 12.9000])"
            ]
          },
          "metadata": {},
          "execution_count": 6
        }
      ]
    }
  ]
}