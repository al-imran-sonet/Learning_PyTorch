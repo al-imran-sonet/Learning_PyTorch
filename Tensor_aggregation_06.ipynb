{
  "nbformat": 4,
  "nbformat_minor": 0,
  "metadata": {
    "colab": {
      "provenance": [],
      "authorship_tag": "ABX9TyO+WLJ0E73b435BRtebH8Rs",
      "include_colab_link": true
    },
    "kernelspec": {
      "name": "python3",
      "display_name": "Python 3"
    },
    "language_info": {
      "name": "python"
    }
  },
  "cells": [
    {
      "cell_type": "markdown",
      "metadata": {
        "id": "view-in-github",
        "colab_type": "text"
      },
      "source": [
        "<a href=\"https://colab.research.google.com/github/al-imran-sonet/Learning_PyTorch/blob/main/Tensor_aggregation_06.ipynb\" target=\"_parent\"><img src=\"https://colab.research.google.com/assets/colab-badge.svg\" alt=\"Open In Colab\"/></a>"
      ]
    },
    {
      "cell_type": "markdown",
      "source": [
        "### Tensor aggregation (min ,max ,mean, sum )"
      ],
      "metadata": {
        "id": "6BLfIK85ejBk"
      }
    },
    {
      "cell_type": "code",
      "execution_count": 1,
      "metadata": {
        "id": "zKkwsAf-d1sw"
      },
      "outputs": [],
      "source": [
        "import torch"
      ]
    },
    {
      "cell_type": "code",
      "source": [
        "# creating tensor\n",
        "tensor_1= torch.tensor([[1,2],\n",
        "                        [2,3],\n",
        "                        [4,5]])\n",
        "tensor_2=torch.arange(0,200,20)\n",
        "tensor_1,tensor_2"
      ],
      "metadata": {
        "colab": {
          "base_uri": "https://localhost:8080/"
        },
        "id": "QuMbLhOefT_o",
        "outputId": "7804281a-4694-4540-aede-fb720859420d"
      },
      "execution_count": 3,
      "outputs": [
        {
          "output_type": "execute_result",
          "data": {
            "text/plain": [
              "(tensor([[1, 2],\n",
              "         [2, 3],\n",
              "         [4, 5]]),\n",
              " tensor([  0,  20,  40,  60,  80, 100, 120, 140, 160, 180]))"
            ]
          },
          "metadata": {},
          "execution_count": 3
        }
      ]
    },
    {
      "cell_type": "code",
      "source": [
        "# Find the min\n",
        "torch.min(tensor_1),tensor_2.min()"
      ],
      "metadata": {
        "colab": {
          "base_uri": "https://localhost:8080/"
        },
        "id": "vepmJxMKfaQ1",
        "outputId": "3946bf3a-60ef-4a96-dd70-1d15e3e5824d"
      },
      "execution_count": 5,
      "outputs": [
        {
          "output_type": "execute_result",
          "data": {
            "text/plain": [
              "(tensor(1), tensor(0))"
            ]
          },
          "metadata": {},
          "execution_count": 5
        }
      ]
    },
    {
      "cell_type": "code",
      "source": [
        "# find the max\n",
        "torch.max(tensor_1), tensor_2.max()"
      ],
      "metadata": {
        "id": "i7wewuSHf-Z8"
      },
      "execution_count": null,
      "outputs": []
    },
    {
      "cell_type": "code",
      "source": [
        "# Find the mean\n",
        "# torch.mean(tensor_1) it will show this error \"Input dtype must be either a floating point or complex dtype.\" . so we have to do this---->\n",
        "torch.mean(tensor_1.type(torch.float32)) # changing the data type from int to float . because this tensor function works on float data type .\n",
        "# or\n",
        "tensor_2.type(torch.float32).mean()\n"
      ],
      "metadata": {
        "colab": {
          "base_uri": "https://localhost:8080/"
        },
        "id": "9cujl8xDghGb",
        "outputId": "3902e9dc-0d32-4829-97f6-c98ac43272dd"
      },
      "execution_count": 8,
      "outputs": [
        {
          "output_type": "execute_result",
          "data": {
            "text/plain": [
              "tensor(90.)"
            ]
          },
          "metadata": {},
          "execution_count": 8
        }
      ]
    },
    {
      "cell_type": "code",
      "source": [
        "# Find the sum\n",
        "torch.sum(tensor_1), tensor_2.sum()"
      ],
      "metadata": {
        "colab": {
          "base_uri": "https://localhost:8080/"
        },
        "id": "P0bb9LMGi71k",
        "outputId": "df1fdf70-3666-4c7e-f7c5-847b4e8b27c6"
      },
      "execution_count": 9,
      "outputs": [
        {
          "output_type": "execute_result",
          "data": {
            "text/plain": [
              "(tensor(17), tensor(900))"
            ]
          },
          "metadata": {},
          "execution_count": 9
        }
      ]
    }
  ]
}